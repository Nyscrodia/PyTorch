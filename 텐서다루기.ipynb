{
 "cells": [
  {
   "cell_type": "markdown",
   "metadata": {},
   "source": [
    "# 파이토치 기초문법"
   ]
  },
  {
   "cell_type": "markdown",
   "metadata": {},
   "source": [
    "### 텐서 생성 및 변환\n",
    "    - 텐서는 numpy의 ndarray와 비슷하며 GPU에서의 연산도 가능"
   ]
  },
  {
   "cell_type": "code",
   "execution_count": 2,
   "metadata": {},
   "outputs": [
    {
     "name": "stdout",
     "output_type": "stream",
     "text": [
      "tensor([[1, 2],\n",
      "        [3, 4]])\n",
      "tensor([[1., 2.],\n",
      "        [3., 4.]], dtype=torch.float64)\n"
     ]
    }
   ],
   "source": [
    "import torch\n",
    "print(torch.tensor([[1, 2], [3, 4]]))   #2차원 행태의 텐서\n",
    "#print(torch.tensor([[1, 2], [3, 4]], device=\"cuda:0\"))   #GPU에 텐서 생성  ==> GPU가 있어야지만 가능\n",
    "print(torch.tensor([[1, 2], [3, 4]], dtype=torch.float64))  #dtype을 이용하여 텐서 생성"
   ]
  },
  {
   "cell_type": "code",
   "execution_count": 3,
   "metadata": {},
   "outputs": [
    {
     "name": "stdout",
     "output_type": "stream",
     "text": [
      "[[1 2]\n",
      " [3 4]]\n"
     ]
    },
    {
     "data": {
      "text/plain": [
       "'\\ntmp = torch.tensor([[1, 2], [3, 4]], device=\"cuda:0\")\\nprint(tmp.to(\"cpu\").numpy())\\n'"
      ]
     },
     "execution_count": 3,
     "metadata": {},
     "output_type": "execute_result"
    }
   ],
   "source": [
    "tmp = torch.tensor([[1, 2], [3, 4]])\n",
    "print(tmp.numpy())\n",
    "'''\n",
    "tmp = torch.tensor([[1, 2], [3, 4]], device=\"cuda:0\")\n",
    "print(tmp.to(\"cpu\").numpy())\n",
    "'''"
   ]
  },
  {
   "cell_type": "code",
   "execution_count": null,
   "metadata": {},
   "outputs": [],
   "source": []
  }
 ],
 "metadata": {
  "kernelspec": {
   "display_name": "torch",
   "language": "python",
   "name": "torch"
  },
  "language_info": {
   "codemirror_mode": {
    "name": "ipython",
    "version": 3
   },
   "file_extension": ".py",
   "mimetype": "text/x-python",
   "name": "python",
   "nbconvert_exporter": "python",
   "pygments_lexer": "ipython3",
   "version": "3.9.0"
  },
  "orig_nbformat": 4
 },
 "nbformat": 4,
 "nbformat_minor": 2
}
