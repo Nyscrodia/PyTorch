{
 "cells": [
  {
   "cell_type": "markdown",
   "metadata": {},
   "source": [
    "# 파이토치 기초문법"
   ]
  },
  {
   "cell_type": "markdown",
   "metadata": {},
   "source": [
    "### 텐서 생성 및 변환\n",
    "    - 텐서는 numpy의 ndarray와 비슷하며 GPU에서의 연산도 가능"
   ]
  },
  {
   "cell_type": "code",
   "execution_count": 2,
   "metadata": {},
   "outputs": [
    {
     "name": "stdout",
     "output_type": "stream",
     "text": [
      "tensor([[1, 2],\n",
      "        [3, 4]])\n",
      "tensor([[1., 2.],\n",
      "        [3., 4.]], dtype=torch.float64)\n"
     ]
    }
   ],
   "source": [
    "import torch\n",
    "print(torch.tensor([[1, 2], [3, 4]]))   #2차원 행태의 텐서\n",
    "#print(torch.tensor([[1, 2], [3, 4]], device=\"cuda:0\"))   #GPU에 텐서 생성  ==> GPU가 있어야지만 가능\n",
    "print(torch.tensor([[1, 2], [3, 4]], dtype=torch.float64))  #dtype을 이용하여 텐서 생성"
   ]
  },
  {
   "cell_type": "code",
   "execution_count": 3,
   "metadata": {},
   "outputs": [
    {
     "name": "stdout",
     "output_type": "stream",
     "text": [
      "[[1 2]\n",
      " [3 4]]\n"
     ]
    },
    {
     "data": {
      "text/plain": [
       "'\\ntmp = torch.tensor([[1, 2], [3, 4]], device=\"cuda:0\")\\nprint(tmp.to(\"cpu\").numpy())\\n'"
      ]
     },
     "execution_count": 3,
     "metadata": {},
     "output_type": "execute_result"
    }
   ],
   "source": [
    "tmp = torch.tensor([[1, 2], [3, 4]])\n",
    "print(tmp.numpy())\n",
    "'''\n",
    "tmp = torch.tensor([[1, 2], [3, 4]], device=\"cuda:0\")\n",
    "print(tmp.to(\"cpu\").numpy())\n",
    "'''"
   ]
  },
  {
   "cell_type": "markdown",
   "metadata": {},
   "source": [
    "### 텐서의 인덱스 조작"
   ]
  },
  {
   "cell_type": "code",
   "execution_count": 6,
   "metadata": {},
   "outputs": [
    {
     "name": "stdout",
     "output_type": "stream",
     "text": [
      "tensor(1.) tensor(2.) tensor(7.)\n",
      "------------------------\n",
      "tensor([3., 4., 5.]) tensor([5., 6.])\n"
     ]
    }
   ],
   "source": [
    "tmp = torch.FloatTensor([1, 2, 3, 4, 5, 6, 7])   #1차원 벡터\n",
    "print(tmp[0], tmp[1], tmp[-1])\n",
    "print(\"------------------------\")\n",
    "print(tmp[2:5], tmp[4:-1])"
   ]
  },
  {
   "cell_type": "markdown",
   "metadata": {},
   "source": [
    "### 텐서 연산 및 차원 조작\n",
    "\n",
    "- 벡터 두개를 생성하여 사칙연산이 가능"
   ]
  },
  {
   "cell_type": "code",
   "execution_count": 8,
   "metadata": {},
   "outputs": [
    {
     "name": "stdout",
     "output_type": "stream",
     "text": [
      "tensor([2, 2, 3])\n"
     ]
    }
   ],
   "source": [
    "v = torch.tensor([1, 2, 3])\n",
    "w = torch.tensor([3, 4, 6])\n",
    "print(w - v)"
   ]
  },
  {
   "cell_type": "code",
   "execution_count": null,
   "metadata": {},
   "outputs": [],
   "source": [
    "tmp = torch.tensor([\n",
    "    [1, 2], [3, 4]\n",
    "])\n",
    "\n",
    "print(tmp.shape)\n",
    "print(\"--------------------\")\n",
    "print(tmp.view(4, 1))   #2x2행렬을 4x1로 변형\n",
    "print(\"--------------------\")\n",
    "print(tmp.view(-1))   #2x2행렬을 1차원벡터로 변형\n",
    "print(\"--------------------\")\n",
    "print(tmp.view(1, -1))   #-1은 (1, ?)와 같은의미로 사용(원소의 개수는 변하지 않음)\n",
    "print(\"--------------------\")\n",
    "print(tmp.view(-1, 1))   #(?, 1)"
   ]
  }
 ],
 "metadata": {
  "kernelspec": {
   "display_name": "torch",
   "language": "python",
   "name": "torch"
  },
  "language_info": {
   "codemirror_mode": {
    "name": "ipython",
    "version": 3
   },
   "file_extension": ".py",
   "mimetype": "text/x-python",
   "name": "python",
   "nbconvert_exporter": "python",
   "pygments_lexer": "ipython3",
   "version": "3.9.0"
  },
  "orig_nbformat": 4
 },
 "nbformat": 4,
 "nbformat_minor": 2
}
